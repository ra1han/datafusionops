{
  "cells": [
    {
      "cell_type": "markdown",
      "source": [
        "**Raw Zone**\r\n",
        "\r\n",
        "It has 3 Tables.\r\n",
        "- Account: Database dataverse_salestrial_xxx. It's pushed from Dynamics Sales via Synapse link for Dataverse.\r\n",
        "- xxx_their_sales: Database dataverse_dataopsdefau_xxx. It's pushed from Dataverse via Synapse link for Dataverse. It was loaded to dataverse from a csv file.\r\n",
        "- our_sales: Database raw. It's loaded from a csv file using notebook script."
      ],
      "metadata": {
        "nteract": {
          "transient": {
            "deleting": false
          }
        }
      }
    },
    {
      "cell_type": "markdown",
      "source": [
        "**Prepare RAW**"
      ],
      "metadata": {
        "nteract": {
          "transient": {
            "deleting": false
          }
        }
      }
    },
    {
      "cell_type": "code",
      "source": [
        "%%sql\r\n",
        "CREATE DATABASE raw;"
      ],
      "outputs": [
        {
          "output_type": "display_data",
          "data": {
            "application/vnd.livy.statement-meta+json": {
              "spark_pool": null,
              "session_id": "5",
              "statement_id": -1,
              "state": "finished",
              "livy_statement_state": "available",
              "queued_time": "2023-02-20T13:10:17.8454986Z",
              "session_start_time": null,
              "execution_start_time": "2023-02-20T13:10:20.7234363Z",
              "execution_finish_time": "2023-02-20T13:10:20.7238435Z",
              "spark_jobs": null,
              "parent_msg_id": "628a5812-efbf-40ba-929e-c14b745775c4"
            },
            "text/plain": "StatementMeta(, 5, -1, Finished, Available)"
          },
          "metadata": {}
        },
        {
          "output_type": "execute_result",
          "execution_count": 6,
          "data": {
            "application/vnd.synapse.sparksql-result+json": {
              "schema": {
                "type": "struct",
                "fields": []
              },
              "data": []
            },
            "text/plain": "<Spark SQL result set with 0 rows and 0 fields>"
          },
          "metadata": {}
        },
        {
          "output_type": "execute_result",
          "execution_count": 6,
          "data": {
            "application/vnd.synapse.sparksql-result+json": {
              "schema": {
                "type": "struct",
                "fields": []
              },
              "data": []
            },
            "text/plain": "<Spark SQL result set with 0 rows and 0 fields>"
          },
          "metadata": {}
        }
      ],
      "execution_count": 6,
      "metadata": {
        "jupyter": {
          "source_hidden": false,
          "outputs_hidden": false
        },
        "nteract": {
          "transient": {
            "deleting": false
          }
        },
        "microsoft": {
          "language": "sparksql"
        },
        "collapsed": false
      }
    },
    {
      "cell_type": "code",
      "source": [
        "%%sql\r\n",
        "drop table standardised.our_sales"
      ],
      "outputs": [
        {
          "output_type": "display_data",
          "data": {
            "application/vnd.livy.statement-meta+json": {
              "spark_pool": "sparkpool",
              "session_id": "9",
              "statement_id": 20,
              "state": "finished",
              "livy_statement_state": "available",
              "queued_time": "2023-02-20T14:42:36.4530146Z",
              "session_start_time": null,
              "execution_start_time": "2023-02-20T14:42:36.6272985Z",
              "execution_finish_time": "2023-02-20T14:42:39.480536Z",
              "spark_jobs": null,
              "parent_msg_id": "f7d37587-206f-4509-9c12-2cd5631e9385"
            },
            "text/plain": "StatementMeta(sparkpool, 9, 20, Finished, Available)"
          },
          "metadata": {}
        },
        {
          "output_type": "execute_result",
          "execution_count": 21,
          "data": {
            "application/vnd.synapse.sparksql-result+json": {
              "schema": {
                "type": "struct",
                "fields": []
              },
              "data": []
            },
            "text/plain": "<Spark SQL result set with 0 rows and 0 fields>"
          },
          "metadata": {}
        }
      ],
      "execution_count": 21,
      "metadata": {
        "jupyter": {
          "source_hidden": false,
          "outputs_hidden": false
        },
        "nteract": {
          "transient": {
            "deleting": false
          }
        },
        "microsoft": {
          "language": "sparksql"
        },
        "collapsed": false
      }
    },
    {
      "cell_type": "code",
      "source": [
        "%%pyspark\r\n",
        "\r\n",
        "spark.conf.set(\"fs.azure.account.auth.type\", \"SAS\")\r\n",
        "spark.conf.set(\"fs.azure.sas.token.provider.type\", \"com.microsoft.azure.synapse.tokenlibrary.ConfBasedSASProvider\")\r\n",
        "spark.conf.set(\"spark.storage.synapse.sas\", \"SAS Token\")\r\n",
        "\r\n",
        "our_sales_file_path = \"abfss://synfs@dataopsstg01.dfs.core.windows.net/our_sales.csv\"\r\n",
        "our_sales_raw_table_path = \"abfss://raw@dataopsstg01.dfs.core.windows.net/our_sales\"\r\n",
        "\r\n",
        "df = spark.read.csv(our_sales_file_path, header=True)\r\n",
        "df.show()\r\n",
        "\r\n",
        "df.write.option('path', our_sales_raw_table_path).saveAsTable(\"raw.our_sales\")"
      ],
      "outputs": [
        {
          "output_type": "display_data",
          "data": {
            "application/vnd.livy.statement-meta+json": {
              "spark_pool": "sparkpool",
              "session_id": "9",
              "statement_id": 19,
              "state": "finished",
              "livy_statement_state": "available",
              "queued_time": "2023-02-20T14:42:01.9956955Z",
              "session_start_time": null,
              "execution_start_time": "2023-02-20T14:42:02.1358102Z",
              "execution_finish_time": "2023-02-20T14:42:05.0520312Z",
              "spark_jobs": null,
              "parent_msg_id": "ef9beec0-dcac-4a5b-8460-833863f78087"
            },
            "text/plain": "StatementMeta(sparkpool, 9, 19, Finished, Available)"
          },
          "metadata": {}
        },
        {
          "output_type": "stream",
          "name": "stdout",
          "text": [
            "+----------+---------------+------------+-------------+----------------+--------+--------------+----------+------+--------+-------------------+-----+-----------+----------+--------------+------------+------------+----------------+-------------+---------------+-------------------+---------------+----------------+-----------+----------------+--------+---------+\n| OrderDate|       Category|        City|      Country|    CustomerName|Discount|       OrderID|PostalCode|Profit|Quantity|            Account|Sales|    Segment|  ShipDate|      ShipMode|       State|Sub_Category|DaystoShipActual|SalesForecast|     ShipStatus|DaystoShipScheduled|OrderProfitable|SalesperCustomer|ProfitRatio|SalesaboveTarget|latitude|longitude|\n+----------+---------------+------------+-------------+----------------+--------+--------------+----------+------+--------+-------------------+-----+-----------+----------+--------------+------------+------------+----------------+-------------+---------------+-------------------+---------------+----------------+-----------+----------------+--------+---------+\n| 4/01/2011|Office Supplies|     Houston|United States|   Darren Powers|     0.2|CA-2011-103800|     77095|     6|       2|  Northwind Traders|   16|   Consumer| 8/01/2011|Standard Class|       Texas|       Paper|               4|           22|  Shipped Early|                  6|           null|           16.45|       33.8|            null| 29.8941| -95.6481|\n| 5/01/2011|Office Supplies|  Naperville|United States|   Phillina Ober|     0.2|CA-2011-112326|     60540|     4|       3|  Northwind Traders|   12|Home Office| 9/01/2011|Standard Class|    Illinois|      Labels|               4|           15|  Shipped Early|                  6|           null|           11.78|       36.3|            null| 41.7662|  -88.141|\n| 5/01/2011|Office Supplies|  Naperville|United States|   Phillina Ober|     0.8|CA-2011-112326|     60540|    -5|       2|  Northwind Traders|    4|Home Office| 9/01/2011|Standard Class|    Illinois|     Binders|               4|            5|  Shipped Early|                  6|           null|            3.54|       -155|            null| 41.7662|  -88.141|\n| 5/01/2011|Office Supplies|  Naperville|United States|   Phillina Ober|     0.2|CA-2011-112326|     60540|   -65|       3|  Northwind Traders|  273|Home Office| 9/01/2011|Standard Class|    Illinois|     Storage|               4|          357|  Shipped Early|                  6|           null|          272.74|      -23.8|            null| 41.7662|  -88.141|\n| 6/01/2011|Office Supplies|Philadelphia|United States|      Mick Brown|     0.2|CA-2011-141817|     19143|     5|       3|A Datum Corporation|   20|   Consumer|13/01/2011|Standard Class|Pennsylvania|         Art|               7|           26|   Shipped Late|                  6|           null|           19.54|         25|            null| 39.9448| -75.2288|\n| 7/01/2011|Office Supplies|      Athens|United States|    Jack OBriant|       0|CA-2011-106054|     30605|     5|       3|       Fabrikam Inc|   13|  Corporate| 8/01/2011|   First Class|     Georgia|         Art|               1|           17|Shipped On Time|                  1|           null|           12.78|         41|            null| 33.9321| -83.3525|\n| 7/01/2011|Office Supplies|   Henderson|United States|   Maria Etezadi|       0|CA-2011-167199|     42420|     0|       4|       Fabrikam Inc|   31|Home Office|11/01/2011|Standard Class|    Kentucky|   Fasteners|               4|           41|  Shipped Early|                  6|           null|           31.12|          1|            null| 37.8274| -87.5632|\n| 7/01/2011|Office Supplies|   Henderson|United States|   Maria Etezadi|       0|CA-2011-167199|     42420|   274|       2|       Fabrikam Inc|  610|Home Office|11/01/2011|Standard Class|    Kentucky|     Binders|               4|          799|  Shipped Early|                  6|           null|          609.98|         45|            null| 37.8274| -87.5632|\n| 7/01/2011|Office Supplies|   Henderson|United States|   Maria Etezadi|       0|CA-2011-167199|     42420|     1|       2|       Fabrikam Inc|    5|Home Office|11/01/2011|Standard Class|    Kentucky|         Art|               4|            7|  Shipped Early|                  6|           null|            5.48|         27|            null| 37.8274| -87.5632|\n| 7/01/2011|Office Supplies|   Henderson|United States|   Maria Etezadi|       0|CA-2011-167199|     42420|     3|       1|       Fabrikam Inc|    7|Home Office|11/01/2011|Standard Class|    Kentucky|       Paper|               4|            9|  Shipped Early|                  6|           null|            6.54|         46|            null| 37.8274| -87.5632|\n| 7/01/2011|Office Supplies| Los Angeles|United States|Lycoris Saunders|       0|CA-2011-130813|     90049|     9|       3|   Alpine Ski House|   19|   Consumer| 9/01/2011|  Second Class|  California|       Paper|               2|           25|  Shipped Early|                  3|           null|           19.44|         48|            null|  34.066| -118.474|\n| 8/01/2011|Office Supplies|  Huntsville|United States|Vivek Sundaresam|     0.8|CA-2011-105417|     77340|   -18|       7|  Northwind Traders|   10|   Consumer|13/01/2011|Standard Class|       Texas|     Binders|               5|           14|  Shipped Early|                  6|           null|           10.43|       -175|            null| 30.6448| -95.5798|\n|10/01/2011|Office Supplies|      Laredo|United States|   Melanie Seite|     0.2|CA-2011-135405|     78041|     1|       2|  Northwind Traders|    9|   Consumer|14/01/2011|Standard Class|       Texas|         Art|               4|           12|  Shipped Early|                  6|           null|            9.34|       12.5|            null| 27.5569| -99.4907|\n|11/01/2011|Office Supplies| Springfield|United States|  Anthony Jacobs|       0|CA-2011-149020|     22153|     1|       1|       Fabrikam Inc|    3|  Corporate|16/01/2011|Standard Class|    Virginia|      Labels|               5|            4|  Shipped Early|                  6|           null|            2.89|         47|            null| 38.7449|  -77.237|\n|14/01/2011|Office Supplies|Bossier City|United States| Chris Selesnick|       0|CA-2011-162775|     71111|    25|       3|       Fabrikam Inc|   51|  Corporate|16/01/2011|  Second Class|   Louisiana|   Envelopes|               2|           67|  Shipped Early|                  3|           null|           50.94|         50|            null| 32.5449| -93.7038|\n|14/01/2011|Office Supplies|Bossier City|United States| Chris Selesnick|       0|CA-2011-162775|     71111|    34|       6|       Fabrikam Inc|  573|  Corporate|16/01/2011|  Second Class|   Louisiana|     Storage|               2|          750|  Shipped Early|                  3|           null|          572.58|          6|            null| 32.5449| -93.7038|\n|14/01/2011|Office Supplies|Bossier City|United States| Chris Selesnick|       0|CA-2011-162775|     71111|     5|       2|       Fabrikam Inc|   11|  Corporate|16/01/2011|  Second Class|   Louisiana|   Envelopes|               2|           15|  Shipped Early|                  3|           null|           11.36|         47|            null| 32.5449| -93.7038|\n|14/01/2011|Office Supplies|Bossier City|United States| Chris Selesnick|       0|CA-2011-162775|     71111|     3|       3|       Fabrikam Inc|    6|  Corporate|16/01/2011|  Second Class|   Louisiana|     Binders|               2|            7|  Shipped Early|                  3|           null|            5.64|         48|            null| 32.5449| -93.7038|\n|14/01/2011|Office Supplies|      Newark|United States|   Michael Moore|     0.7|CA-2011-118192|     43055|    -3|       2|A Datum Corporation|    3|   Consumer|19/01/2011|Standard Class|        Ohio|     Binders|               5|            5|  Shipped Early|                  6|           null|            3.44|      -73.3|            null| 40.0724| -82.4046|\n|14/01/2011|Office Supplies|      Newark|United States|   Michael Moore|     0.2|CA-2011-118192|     43055|    13|       7|A Datum Corporation|   37|   Consumer|19/01/2011|Standard Class|        Ohio|       Paper|               5|           49|  Shipped Early|                  6|           null|           37.41|         35|            null| 40.0724| -82.4046|\n+----------+---------------+------------+-------------+----------------+--------+--------------+----------+------+--------+-------------------+-----+-----------+----------+--------------+------------+------------+----------------+-------------+---------------+-------------------+---------------+----------------+-----------+----------------+--------+---------+\nonly showing top 20 rows\n\n"
          ]
        }
      ],
      "execution_count": 20,
      "metadata": {
        "jupyter": {
          "source_hidden": false,
          "outputs_hidden": true
        },
        "nteract": {
          "transient": {
            "deleting": false
          }
        },
        "microsoft": {
          "language": "python"
        }
      }
    },
    {
      "cell_type": "markdown",
      "source": [
        "**Prepare Standardised**"
      ],
      "metadata": {
        "nteract": {
          "transient": {
            "deleting": false
          }
        }
      }
    },
    {
      "cell_type": "code",
      "source": [
        "%%pyspark\r\n",
        "from pyspark.sql.functions import to_date\r\n",
        "\r\n",
        "spark.conf.set(\"fs.azure.account.auth.type\", \"SAS\")\r\n",
        "spark.conf.set(\"fs.azure.sas.token.provider.type\", \"com.microsoft.azure.synapse.tokenlibrary.ConfBasedSASProvider\")\r\n",
        "spark.conf.set(\"spark.storage.synapse.sas\", \"SAS Token\")\r\n",
        "\r\n",
        "df = spark.sql(\"SELECT * FROM `raw`.`our_sales`\")\r\n",
        "\r\n",
        "df = df.select('OrderDate','City','State','Country','Account','Sales')\r\n",
        "date_format = \"d/MM/yyyy\"\r\n",
        "df = df.withColumn(\"OrderDate\", to_date(\"OrderDate\", date_format))\r\n",
        "\r\n",
        "df.show()\r\n",
        "\r\n",
        "our_sales_standardised_table_path = \"abfss://standardised@dataopsstg01.dfs.core.windows.net/our_sales\"\r\n",
        "\r\n",
        "df.write.option('path', our_sales_standardised_table_path).saveAsTable(\"standardised.our_sales\")"
      ],
      "outputs": [
        {
          "output_type": "display_data",
          "data": {
            "application/vnd.livy.statement-meta+json": {
              "spark_pool": "sparkpool",
              "session_id": "9",
              "statement_id": 21,
              "state": "finished",
              "livy_statement_state": "available",
              "queued_time": "2023-02-20T14:43:00.638927Z",
              "session_start_time": null,
              "execution_start_time": "2023-02-20T14:43:00.7739557Z",
              "execution_finish_time": "2023-02-20T14:43:03.6870962Z",
              "spark_jobs": null,
              "parent_msg_id": "30417b14-07fa-4783-a4a1-4267f47668bf"
            },
            "text/plain": "StatementMeta(sparkpool, 9, 21, Finished, Available)"
          },
          "metadata": {}
        },
        {
          "output_type": "stream",
          "name": "stdout",
          "text": [
            "+----------+------------+------------+-------------+-------------------+-----+\n| OrderDate|        City|       State|      Country|            Account|Sales|\n+----------+------------+------------+-------------+-------------------+-----+\n|2011-01-04|     Houston|       Texas|United States|  Northwind Traders|   16|\n|2011-01-05|  Naperville|    Illinois|United States|  Northwind Traders|   12|\n|2011-01-05|  Naperville|    Illinois|United States|  Northwind Traders|    4|\n|2011-01-05|  Naperville|    Illinois|United States|  Northwind Traders|  273|\n|2011-01-06|Philadelphia|Pennsylvania|United States|A Datum Corporation|   20|\n|2011-01-07|      Athens|     Georgia|United States|       Fabrikam Inc|   13|\n|2011-01-07|   Henderson|    Kentucky|United States|       Fabrikam Inc|   31|\n|2011-01-07|   Henderson|    Kentucky|United States|       Fabrikam Inc|  610|\n|2011-01-07|   Henderson|    Kentucky|United States|       Fabrikam Inc|    5|\n|2011-01-07|   Henderson|    Kentucky|United States|       Fabrikam Inc|    7|\n|2011-01-07| Los Angeles|  California|United States|   Alpine Ski House|   19|\n|2011-01-08|  Huntsville|       Texas|United States|  Northwind Traders|   10|\n|2011-01-10|      Laredo|       Texas|United States|  Northwind Traders|    9|\n|2011-01-11| Springfield|    Virginia|United States|       Fabrikam Inc|    3|\n|2011-01-14|Bossier City|   Louisiana|United States|       Fabrikam Inc|   51|\n|2011-01-14|Bossier City|   Louisiana|United States|       Fabrikam Inc|  573|\n|2011-01-14|Bossier City|   Louisiana|United States|       Fabrikam Inc|   11|\n|2011-01-14|Bossier City|   Louisiana|United States|       Fabrikam Inc|    6|\n|2011-01-14|      Newark|        Ohio|United States|A Datum Corporation|    3|\n|2011-01-14|      Newark|        Ohio|United States|A Datum Corporation|   37|\n+----------+------------+------------+-------------+-------------------+-----+\nonly showing top 20 rows\n\n"
          ]
        }
      ],
      "execution_count": 22,
      "metadata": {
        "jupyter": {
          "source_hidden": false,
          "outputs_hidden": true
        },
        "nteract": {
          "transient": {
            "deleting": false
          }
        },
        "microsoft": {
          "language": "python"
        },
        "collapsed": false
      }
    },
    {
      "cell_type": "code",
      "source": [
        "%%pyspark\r\n",
        "from pyspark.sql.functions import regexp_replace\r\n",
        "\r\n",
        "df = spark.sql(\"SELECT name, address1_city,address1_stateorprovince, address1_country FROM `dataverse_salestrial_unqd3841b9b46bf426aa84737d42b716`.`account`\")\r\n",
        "df = df.withColumn('name', regexp_replace('name', ',', ''))\r\n",
        "df = df.withColumn('name', regexp_replace('name', '\\\\.', ''))\r\n",
        "\r\n",
        "spark.conf.set(\"fs.azure.account.auth.type\", \"SAS\")\r\n",
        "spark.conf.set(\"fs.azure.sas.token.provider.type\", \"com.microsoft.azure.synapse.tokenlibrary.ConfBasedSASProvider\")\r\n",
        "spark.conf.set(\"spark.storage.synapse.sas\", \"SAS Token\")\r\n",
        "\r\n",
        "account_standardised_table_path = \"abfss://standardised@dataopsstg01.dfs.core.windows.net/account\"\r\n",
        "\r\n",
        "df.write.option('path', account_standardised_table_path).saveAsTable(\"standardised.account\")"
      ],
      "outputs": [
        {
          "output_type": "display_data",
          "data": {
            "application/vnd.livy.statement-meta+json": {
              "spark_pool": "sparkpool",
              "session_id": "5",
              "statement_id": 30,
              "state": "finished",
              "livy_statement_state": "available",
              "queued_time": "2023-02-20T13:56:56.8553741Z",
              "session_start_time": null,
              "execution_start_time": "2023-02-20T13:56:57.0236558Z",
              "execution_finish_time": "2023-02-20T13:57:13.994196Z",
              "spark_jobs": null,
              "parent_msg_id": "d4e6e5d8-be6d-475f-80f3-025af92beb7c"
            },
            "text/plain": "StatementMeta(sparkpool, 5, 30, Finished, Available)"
          },
          "metadata": {}
        },
        {
          "output_type": "stream",
          "name": "stdout",
          "text": [
            "+-------------------+-------------+------------------------+----------------+\n|               name|address1_city|address1_stateorprovince|address1_country|\n+-------------------+-------------+------------------------+----------------+\n|       Fabrikam Inc|     Lynnwood|               Tennessee|   United States|\n|  Northwind Traders|     Columbus|                    Ohio|   United States|\n|A Datum Corporation|      Redmond|              Washington|   United States|\n|   Alpine Ski House|       Dallas|                   Texas|   United States|\n|      Trey Research|San Francisco|              California|   United States|\n+-------------------+-------------+------------------------+----------------+\n\n"
          ]
        }
      ],
      "execution_count": 26,
      "metadata": {
        "jupyter": {
          "source_hidden": false,
          "outputs_hidden": false
        },
        "nteract": {
          "transient": {
            "deleting": false
          }
        },
        "microsoft": {
          "language": "python"
        }
      }
    },
    {
      "cell_type": "code",
      "source": [
        "%%pyspark\r\n",
        "from pyspark.sql.functions import to_date\r\n",
        "\r\n",
        "spark.conf.set(\"fs.azure.account.auth.type\", \"SAS\")\r\n",
        "spark.conf.set(\"fs.azure.sas.token.provider.type\", \"com.microsoft.azure.synapse.tokenlibrary.ConfBasedSASProvider\")\r\n",
        "spark.conf.set(\"spark.storage.synapse.sas\", \"SAS Token\")\r\n",
        "\r\n",
        "df = spark.sql(\"SELECT * FROM `dataverse_dataopsdefau_unq042b19474c3144c393404d6c48e70`.`cr673_their_sales`\")\r\n",
        "\r\n",
        "df = df.select('cr673_OrderDate','cr673_City','cr673_State','cr673_Country','cr673_Account','cr673_Sales')\r\n",
        "date_format = \"yyyy-MM-d\"\r\n",
        "df = df.withColumn(\"cr673_OrderDate\", to_date(\"cr673_OrderDate\", date_format))\r\n",
        "\r\n",
        "df.show()\r\n",
        "\r\n",
        "our_sales_standardised_table_path = \"abfss://standardised@dataopsstg01.dfs.core.windows.net/their_sales\"\r\n",
        "\r\n",
        "df.write.option('path', our_sales_standardised_table_path).saveAsTable(\"standardised.their_sales\")"
      ],
      "outputs": [
        {
          "output_type": "display_data",
          "data": {
            "application/vnd.livy.statement-meta+json": {
              "spark_pool": "sparkpool",
              "session_id": "9",
              "statement_id": 36,
              "state": "finished",
              "livy_statement_state": "available",
              "queued_time": "2023-02-20T15:26:01.6502713Z",
              "session_start_time": null,
              "execution_start_time": "2023-02-20T15:26:01.7990002Z",
              "execution_finish_time": "2023-02-20T15:26:04.6340308Z",
              "spark_jobs": null,
              "parent_msg_id": "1f5e04c0-0ac4-4b7a-b1f7-b8ea944a2a9f"
            },
            "text/plain": "StatementMeta(sparkpool, 9, 36, Finished, Available)"
          },
          "metadata": {}
        },
        {
          "output_type": "stream",
          "name": "stdout",
          "text": [
            "+---------------+--------------+--------------+-------------+-------------------+-----------+\n|cr673_OrderDate|    cr673_City|   cr673_State|cr673_Country|      cr673_Account|cr673_Sales|\n+---------------+--------------+--------------+-------------+-------------------+-----------+\n|     2011-01-07|     Henderson|      Kentucky|United States|       Fabrikam Inc|       2574|\n|     2011-01-07|     Henderson|      Kentucky|United States|       Fabrikam Inc|        392|\n|     2011-01-08|    Huntsville|         Texas|United States|  Northwind Traders|         77|\n|     2011-01-07|     Henderson|      Kentucky|United States|       Fabrikam Inc|        756|\n|     2011-01-12|         Dover|      Delaware|United States|A Datum Corporation|         10|\n|     2011-01-14|Mount Pleasant|South Carolina|United States|       Fabrikam Inc|        546|\n|     2011-01-11|   Springfield|      Virginia|United States|       Fabrikam Inc|         52|\n|     2011-01-10|        Laredo|         Texas|United States|  Northwind Traders|         31|\n|     2011-01-14|  Bossier City|     Louisiana|United States|       Fabrikam Inc|        647|\n|     2011-01-14| San Francisco|    California|United States|   Alpine Ski House|        334|\n|     2011-01-15|  Philadelphia|  Pennsylvania|United States|A Datum Corporation|         62|\n|     2011-01-16|       Roswell|       Georgia|United States|       Fabrikam Inc|        150|\n|     2011-01-20|    Scottsdale|       Arizona|United States|   Alpine Ski House|        181|\n|     2011-01-21|     Jonesboro|      Arkansas|United States|       Fabrikam Inc|         39|\n|     2011-01-17|  Philadelphia|  Pennsylvania|United States|A Datum Corporation|        127|\n|     2011-01-17|  Philadelphia|  Pennsylvania|United States|A Datum Corporation|        124|\n|     2011-01-21|   Los Angeles|    California|United States|   Alpine Ski House|         19|\n|     2011-01-21|     Jonesboro|      Arkansas|United States|       Fabrikam Inc|       1068|\n|     2011-01-21|      Westland|      Michigan|United States|  Northwind Traders|        273|\n|     2011-01-21|      Westland|      Michigan|United States|  Northwind Traders|         15|\n+---------------+--------------+--------------+-------------+-------------------+-----------+\nonly showing top 20 rows\n\n"
          ]
        }
      ],
      "execution_count": 37,
      "metadata": {
        "jupyter": {
          "source_hidden": false,
          "outputs_hidden": true
        },
        "nteract": {
          "transient": {
            "deleting": false
          }
        },
        "microsoft": {
          "language": "python"
        },
        "collapsed": false
      }
    },
    {
      "cell_type": "markdown",
      "source": [
        "**Curated Layer**"
      ],
      "metadata": {
        "nteract": {
          "transient": {
            "deleting": false
          }
        }
      }
    },
    {
      "cell_type": "code",
      "source": [
        "%%sql\r\n",
        "CREATE DATABASE curated;"
      ],
      "outputs": [
        {
          "output_type": "display_data",
          "data": {
            "application/vnd.livy.statement-meta+json": {
              "spark_pool": "sparkpool",
              "session_id": "9",
              "statement_id": 13,
              "state": "finished",
              "livy_statement_state": "available",
              "queued_time": "2023-02-20T14:23:58.9298377Z",
              "session_start_time": null,
              "execution_start_time": "2023-02-20T14:23:59.0862423Z",
              "execution_finish_time": "2023-02-20T14:24:00.9641149Z",
              "spark_jobs": null,
              "parent_msg_id": "43187b2a-1855-465c-afaf-19edc7b5b41a"
            },
            "text/plain": "StatementMeta(sparkpool, 9, 13, Finished, Available)"
          },
          "metadata": {}
        },
        {
          "output_type": "execute_result",
          "execution_count": 14,
          "data": {
            "application/vnd.synapse.sparksql-result+json": {
              "schema": {
                "type": "struct",
                "fields": []
              },
              "data": []
            },
            "text/plain": "<Spark SQL result set with 0 rows and 0 fields>"
          },
          "metadata": {}
        }
      ],
      "execution_count": 14,
      "metadata": {
        "jupyter": {
          "source_hidden": false,
          "outputs_hidden": false
        },
        "nteract": {
          "transient": {
            "deleting": false
          }
        },
        "microsoft": {
          "language": "sparksql"
        },
        "collapsed": false
      }
    },
    {
      "cell_type": "code",
      "source": [
        "%%pyspark\r\n",
        "from pyspark.sql.functions import regexp_replace\r\n",
        "\r\n",
        "spark.conf.set(\"fs.azure.account.auth.type\", \"SAS\")\r\n",
        "spark.conf.set(\"fs.azure.sas.token.provider.type\", \"com.microsoft.azure.synapse.tokenlibrary.ConfBasedSASProvider\")\r\n",
        "spark.conf.set(\"spark.storage.synapse.sas\", \"SAS Token\")\r\n",
        "\r\n",
        "df = spark.sql(\"SELECT name, address1_city,address1_stateorprovince, address1_country FROM `standardised`.`account`\")\r\n",
        "df = df.withColumnRenamed(\"address1_city\", \"city\")\\\r\n",
        "       .withColumnRenamed(\"address1_stateorprovince\", \"stateorprovince\")\\\r\n",
        "       .withColumnRenamed(\"address1_country\", \"country\")\\\r\n",
        "\r\n",
        "df.show()\r\n",
        "account_curated_table_path = \"abfss://curated@dataopsstg01.dfs.core.windows.net/account\"\r\n",
        "\r\n",
        "df.write.option('path', account_curated_table_path).saveAsTable(\"curated.account\")"
      ],
      "outputs": [
        {
          "output_type": "display_data",
          "data": {
            "application/vnd.livy.statement-meta+json": {
              "spark_pool": "sparkpool",
              "session_id": "9",
              "statement_id": 16,
              "state": "finished",
              "livy_statement_state": "available",
              "queued_time": "2023-02-20T14:33:31.7741909Z",
              "session_start_time": null,
              "execution_start_time": "2023-02-20T14:33:31.9094072Z",
              "execution_finish_time": "2023-02-20T14:33:35.9455783Z",
              "spark_jobs": null,
              "parent_msg_id": "96e3c7ec-deb1-4d5f-856c-d937e38be7e9"
            },
            "text/plain": "StatementMeta(sparkpool, 9, 16, Finished, Available)"
          },
          "metadata": {}
        },
        {
          "output_type": "stream",
          "name": "stdout",
          "text": [
            "+-------------------+-------------+---------------+-------------+\n|               name|         city|stateorprovince|      country|\n+-------------------+-------------+---------------+-------------+\n|       Fabrikam Inc|     Lynnwood|      Tennessee|United States|\n|  Northwind Traders|     Columbus|           Ohio|United States|\n|A Datum Corporation|      Redmond|     Washington|United States|\n|   Alpine Ski House|       Dallas|          Texas|United States|\n|      Trey Research|San Francisco|     California|United States|\n+-------------------+-------------+---------------+-------------+\n\n"
          ]
        }
      ],
      "execution_count": 17,
      "metadata": {
        "jupyter": {
          "source_hidden": false,
          "outputs_hidden": false
        },
        "nteract": {
          "transient": {
            "deleting": false
          }
        },
        "microsoft": {
          "language": "python"
        }
      }
    },
    {
      "cell_type": "code",
      "source": [
        "%%pyspark\r\n",
        "from pyspark.sql.functions import to_date\r\n",
        "from pyspark.sql.functions import date_trunc\r\n",
        "\r\n",
        "df_our = spark.sql(\"SELECT * FROM `standardised`.`our_sales`\")\r\n",
        "df_our = df_our.withColumn('OrderDate', date_trunc('month', df_our['OrderDate']))\r\n",
        "\r\n",
        "df_their = spark.sql(\"SELECT * FROM `standardised`.`their_sales`\")\r\n",
        "df_their = df_their.withColumnRenamed(\"cr673_OrderDate\", \"OrderDate\")\r\n",
        "df_their = df_their.withColumn('OrderDate', date_trunc('month', df_their['OrderDate']))\r\n"
      ],
      "outputs": [
        {
          "output_type": "display_data",
          "data": {
            "application/vnd.livy.statement-meta+json": {
              "spark_pool": "sparkpool",
              "session_id": "9",
              "statement_id": 59,
              "state": "finished",
              "livy_statement_state": "available",
              "queued_time": "2023-02-20T16:21:03.0974814Z",
              "session_start_time": null,
              "execution_start_time": "2023-02-20T16:21:03.275958Z",
              "execution_finish_time": "2023-02-20T16:21:03.8750829Z",
              "spark_jobs": null,
              "parent_msg_id": "348c4fc7-40b8-4a0b-b8fd-ede22484ea79"
            },
            "text/plain": "StatementMeta(sparkpool, 9, 59, Finished, Available)"
          },
          "metadata": {}
        }
      ],
      "execution_count": 60,
      "metadata": {
        "jupyter": {
          "source_hidden": false,
          "outputs_hidden": true
        },
        "nteract": {
          "transient": {
            "deleting": false
          }
        },
        "microsoft": {
          "language": "python"
        }
      }
    },
    {
      "cell_type": "code",
      "source": [
        "df_our = df_our.orderBy('OrderDate')\r\n",
        "df_their = df_their.orderBy('OrderDate')\r\n",
        "\r\n",
        "merged_df = df_our.join(df_their, on='OrderDate', how='inner')\r\n",
        "\r\n",
        "merged_df = merged_df.withColumnRenamed(\"City\", \"Our_City\")\\\r\n",
        "       .withColumnRenamed(\"State\", \"Our_State\")\\\r\n",
        "       .withColumnRenamed(\"Country\", \"Our_Country\")\\\r\n",
        "       .withColumnRenamed(\"Sales\", \"Our_Sales\")\\\r\n",
        "       .withColumnRenamed(\"cr673_City\", \"Their_City\")\\\r\n",
        "       .withColumnRenamed(\"cr673_State\", \"Their_State\")\\\r\n",
        "       .withColumnRenamed(\"cr673_Country\", \"Their_Country\")\\\r\n",
        "       .withColumnRenamed(\"cr673_Account\", \"Their_Account\")\\\r\n",
        "       .withColumnRenamed(\"cr673_Sales\", \"Their_Sales\")\\\r\n",
        "\r\n",
        "merged_df.show()\r\n",
        "\r\n",
        "sales_curated_table_path = \"abfss://curated@dataopsstg01.dfs.core.windows.net/sales\"\r\n",
        "\r\n",
        "merged_df.write.option('path', sales_curated_table_path).saveAsTable(\"curated.sales\")"
      ],
      "outputs": [
        {
          "output_type": "display_data",
          "data": {
            "application/vnd.livy.statement-meta+json": {
              "spark_pool": "sparkpool",
              "session_id": "9",
              "statement_id": 63,
              "state": "finished",
              "livy_statement_state": "available",
              "queued_time": "2023-02-20T16:22:22.2590739Z",
              "session_start_time": null,
              "execution_start_time": "2023-02-20T16:22:22.3936128Z",
              "execution_finish_time": "2023-02-20T16:22:27.8086279Z",
              "spark_jobs": null,
              "parent_msg_id": "c2e38453-9cbe-4582-bf6d-23afcf903ce3"
            },
            "text/plain": "StatementMeta(sparkpool, 9, 63, Finished, Available)"
          },
          "metadata": {}
        },
        {
          "output_type": "stream",
          "name": "stdout",
          "text": [
            "+-------------------+--------+---------+-------------+-----------------+---------+-------------+------------+-------------+-------------------+-----------+\n|          OrderDate|Our_City|Our_State|  Our_Country|          Account|Our_Sales|   Their_City| Their_State|Their_Country|      Their_Account|Their_Sales|\n+-------------------+--------+---------+-------------+-----------------+---------+-------------+------------+-------------+-------------------+-----------+\n|2011-01-01 00:00:00| Houston|    Texas|United States|Northwind Traders|       16|   Alexandria|    Virginia|United States|       Fabrikam Inc|        155|\n|2011-01-01 00:00:00| Houston|    Texas|United States|Northwind Traders|       16|   Alexandria|    Virginia|United States|       Fabrikam Inc|        188|\n|2011-01-01 00:00:00| Houston|    Texas|United States|Northwind Traders|       16|   Rapid City|South Dakota|United States|  Northwind Traders|        142|\n|2011-01-01 00:00:00| Houston|    Texas|United States|Northwind Traders|       16|    San Diego|  California|United States|   Alpine Ski House|        333|\n|2011-01-01 00:00:00| Houston|    Texas|United States|Northwind Traders|       16|    Jonesboro|    Arkansas|United States|       Fabrikam Inc|        700|\n|2011-01-01 00:00:00| Houston|    Texas|United States|Northwind Traders|       16|        Miami|     Florida|United States|       Fabrikam Inc|         25|\n|2011-01-01 00:00:00| Houston|    Texas|United States|Northwind Traders|       16|   Alexandria|    Virginia|United States|       Fabrikam Inc|         12|\n|2011-01-01 00:00:00| Houston|    Texas|United States|Northwind Traders|       16|   Alexandria|    Virginia|United States|       Fabrikam Inc|         63|\n|2011-01-01 00:00:00| Houston|    Texas|United States|Northwind Traders|       16|     Westland|    Michigan|United States|  Northwind Traders|         15|\n|2011-01-01 00:00:00| Houston|    Texas|United States|Northwind Traders|       16|     Westland|    Michigan|United States|  Northwind Traders|        273|\n|2011-01-01 00:00:00| Houston|    Texas|United States|Northwind Traders|       16|    Jonesboro|    Arkansas|United States|       Fabrikam Inc|       1068|\n|2011-01-01 00:00:00| Houston|    Texas|United States|Northwind Traders|       16|  Los Angeles|  California|United States|   Alpine Ski House|         19|\n|2011-01-01 00:00:00| Houston|    Texas|United States|Northwind Traders|       16| Philadelphia|Pennsylvania|United States|A Datum Corporation|        124|\n|2011-01-01 00:00:00| Houston|    Texas|United States|Northwind Traders|       16| Philadelphia|Pennsylvania|United States|A Datum Corporation|        127|\n|2011-01-01 00:00:00| Houston|    Texas|United States|Northwind Traders|       16|    Jonesboro|    Arkansas|United States|       Fabrikam Inc|         39|\n|2011-01-01 00:00:00| Houston|    Texas|United States|Northwind Traders|       16|   Scottsdale|     Arizona|United States|   Alpine Ski House|        181|\n|2011-01-01 00:00:00| Houston|    Texas|United States|Northwind Traders|       16|      Roswell|     Georgia|United States|       Fabrikam Inc|        150|\n|2011-01-01 00:00:00| Houston|    Texas|United States|Northwind Traders|       16| Philadelphia|Pennsylvania|United States|A Datum Corporation|         62|\n|2011-01-01 00:00:00| Houston|    Texas|United States|Northwind Traders|       16|San Francisco|  California|United States|   Alpine Ski House|        334|\n|2011-01-01 00:00:00| Houston|    Texas|United States|Northwind Traders|       16| Bossier City|   Louisiana|United States|       Fabrikam Inc|        647|\n+-------------------+--------+---------+-------------+-----------------+---------+-------------+------------+-------------+-------------------+-----------+\nonly showing top 20 rows\n\n"
          ]
        }
      ],
      "execution_count": 64,
      "metadata": {
        "jupyter": {
          "source_hidden": false,
          "outputs_hidden": false
        },
        "nteract": {
          "transient": {
            "deleting": false
          }
        }
      }
    },
    {
      "cell_type": "code",
      "source": [
        "df_our = spark.sql(\"SELECT * FROM `curated`.`sales`\")\r\n",
        "\r\n",
        "spark.conf.set(\"fs.azure.account.auth.type\", \"SAS\")\r\n",
        "spark.conf.set(\"fs.azure.sas.token.provider.type\", \"com.microsoft.azure.synapse.tokenlibrary.ConfBasedSASProvider\")\r\n",
        "spark.conf.set(\"spark.storage.synapse.sas\", \"SAS Token\")\r\n",
        "\r\n",
        "path = \"abfss://synfs@dataopsstg01.dfs.core.windows.net/c_ss.csv\"\r\n",
        "\r\n",
        "df_our.write.option(\"header\",True).csv(path)"
      ],
      "outputs": [
        {
          "output_type": "display_data",
          "data": {
            "application/vnd.livy.statement-meta+json": {
              "spark_pool": "sparkpool",
              "session_id": "9",
              "statement_id": 64,
              "state": "finished",
              "livy_statement_state": "available",
              "queued_time": "2023-02-20T16:22:34.0823378Z",
              "session_start_time": null,
              "execution_start_time": "2023-02-20T16:22:34.2166217Z",
              "execution_finish_time": "2023-02-20T16:22:39.7255642Z",
              "spark_jobs": null,
              "parent_msg_id": "23448605-5c74-4300-966e-c386bf947351"
            },
            "text/plain": "StatementMeta(sparkpool, 9, 64, Finished, Available)"
          },
          "metadata": {}
        }
      ],
      "execution_count": 65,
      "metadata": {
        "jupyter": {
          "source_hidden": false,
          "outputs_hidden": false
        },
        "nteract": {
          "transient": {
            "deleting": false
          }
        }
      }
    },
    {
      "cell_type": "code",
      "source": [
        "%%sql\r\n",
        "drop table curated.sales"
      ],
      "outputs": [
        {
          "output_type": "display_data",
          "data": {
            "application/vnd.livy.statement-meta+json": {
              "spark_pool": "sparkpool",
              "session_id": "9",
              "statement_id": 62,
              "state": "finished",
              "livy_statement_state": "available",
              "queued_time": "2023-02-20T16:22:15.709255Z",
              "session_start_time": null,
              "execution_start_time": "2023-02-20T16:22:15.8436647Z",
              "execution_finish_time": "2023-02-20T16:22:17.6749182Z",
              "spark_jobs": null,
              "parent_msg_id": "17dd4072-3927-4d7d-9278-cd601a35579d"
            },
            "text/plain": "StatementMeta(sparkpool, 9, 62, Finished, Available)"
          },
          "metadata": {}
        },
        {
          "output_type": "execute_result",
          "execution_count": 63,
          "data": {
            "application/vnd.synapse.sparksql-result+json": {
              "schema": {
                "type": "struct",
                "fields": []
              },
              "data": []
            },
            "text/plain": "<Spark SQL result set with 0 rows and 0 fields>"
          },
          "metadata": {}
        }
      ],
      "execution_count": 63,
      "metadata": {
        "jupyter": {
          "source_hidden": false,
          "outputs_hidden": false
        },
        "nteract": {
          "transient": {
            "deleting": false
          }
        },
        "microsoft": {
          "language": "sparksql"
        },
        "collapsed": false
      }
    }
  ],
  "metadata": {
    "kernelspec": {
      "name": "synapse_pyspark",
      "display_name": "Synapse PySpark"
    },
    "language_info": {
      "name": "python"
    },
    "description": null,
    "save_output": true,
    "synapse_widget": {
      "version": "0.1",
      "state": {}
    }
  },
  "nbformat": 4,
  "nbformat_minor": 2
}